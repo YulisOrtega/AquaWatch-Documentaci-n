{
 "cells": [
  {
   "cell_type": "markdown",
   "id": "a41e55fe",
   "metadata": {},
   "source": [
    "# Detección de Consumos Anómalos con Aprendizaje Supervisado\n",
    "\n",
    "Este notebook muestra paso a paso cómo entrenar un modelo supervisado para detectar consumos anómalos de agua usando Python y scikit-learn."
   ]
  },
  {
   "cell_type": "code",
   "execution_count": null,
   "id": "583e55f1",
   "metadata": {},
   "outputs": [],
   "source": [
    "# Importar librerías necesarias\n",
    "import pandas as pd\n",
    "from sklearn.ensemble import RandomForestClassifier\n",
    "from sklearn.model_selection import train_test_split\n",
    "from sklearn.metrics import classification_report"
   ]
  },
  {
   "cell_type": "markdown",
   "id": "3fcf215d",
   "metadata": {},
   "source": [
    "## Simulación de datos de consumo de agua\n",
    "\n",
    "Simularemos un pequeño conjunto de datos donde cada fila representa una lectura de consumo de agua. La columna `es_anomalo` indica si el consumo es considerado anómalo (1) o normal (0)."
   ]
  },
  {
   "cell_type": "code",
   "execution_count": null,
   "id": "992ce30c",
   "metadata": {},
   "outputs": [],
   "source": [
    "# Simular datos de consumo de agua\n",
    "# Cada fila: [consumo_litros, hora_dia, dia_semana, usuario_id, es_anomalo]\n",
    "data = [\n",
    "    [10, 8, 1, 1, 0],\n",
    "    [12, 9, 1, 1, 0],\n",
    "    [50, 3, 2, 2, 1],  # anómalo\n",
    "    [11, 10, 1, 1, 0],\n",
    "    [9, 8, 2, 2, 0],\n",
    "    [55, 2, 3, 2, 1],  # anómalo\n",
    "    [10, 8, 3, 1, 0],\n",
    "    [13, 9, 4, 1, 0],\n",
    "    [60, 1, 5, 2, 1],  # anómalo\n",
    "    [12, 10, 6, 1, 0],\n",
    "]\n",
    "df = pd.DataFrame(data, columns=[\"consumo_litros\", \"hora_dia\", \"dia_semana\", \"usuario_id\", \"es_anomalo\"])\n",
    "df"
   ]
  },
  {
   "cell_type": "markdown",
   "id": "ae5f3766",
   "metadata": {},
   "source": [
    "## Separar variables predictoras y objetivo\n",
    "\n",
    "Seleccionamos las columnas que usaremos como variables de entrada (X) y la columna objetivo (y) que indica si el consumo es anómalo."
   ]
  },
  {
   "cell_type": "code",
   "execution_count": null,
   "id": "be20abfb",
   "metadata": {},
   "outputs": [],
   "source": [
    "# Separar variables predictoras y objetivo\n",
    "X = df[[\"consumo_litros\", \"hora_dia\", \"dia_semana\", \"usuario_id\"]]\n",
    "y = df[\"es_anomalo\"]\n",
    "X.head(), y.head()"
   ]
  },
  {
   "cell_type": "markdown",
   "id": "aafe7b59",
   "metadata": {},
   "source": [
    "## Dividir los datos en entrenamiento y prueba\n",
    "\n",
    "Dividimos los datos para entrenar el modelo con una parte y evaluar su desempeño con la otra."
   ]
  },
  {
   "cell_type": "code",
   "execution_count": null,
   "id": "2a34e746",
   "metadata": {},
   "outputs": [],
   "source": [
    "# Dividir en entrenamiento y prueba\n",
    "X_train, X_test, y_train, y_test = train_test_split(X, y, test_size=0.3, random_state=42)\n",
    "print('Tamaño entrenamiento:', X_train.shape)\n",
    "print('Tamaño prueba:', X_test.shape)"
   ]
  },
  {
   "cell_type": "markdown",
   "id": "e2add125",
   "metadata": {},
   "source": [
    "## Entrenar el modelo supervisado\n",
    "\n",
    "Entrenamos un RandomForestClassifier con los datos de entrenamiento."
   ]
  },
  {
   "cell_type": "code",
   "execution_count": null,
   "id": "866c57f5",
   "metadata": {},
   "outputs": [],
   "source": [
    "# Entrenar modelo supervisado\n",
    "clf = RandomForestClassifier(n_estimators=100, random_state=42)\n",
    "clf.fit(X_train, y_train)"
   ]
  },
  {
   "cell_type": "markdown",
   "id": "dc76b06a",
   "metadata": {},
   "source": [
    "## Evaluar el modelo\n",
    "\n",
    "Evaluamos el desempeño del modelo con los datos de prueba y mostramos un reporte de clasificación."
   ]
  },
  {
   "cell_type": "code",
   "execution_count": null,
   "id": "0a76be61",
   "metadata": {},
   "outputs": [],
   "source": [
    "# Evaluar el modelo\n",
    "y_pred = clf.predict(X_test)\n",
    "print(classification_report(y_test, y_pred))"
   ]
  },
  {
   "cell_type": "markdown",
   "id": "8b79f17f",
   "metadata": {},
   "source": [
    "## Predicción con nuevos datos\n",
    "\n",
    "Probamos el modelo con un nuevo registro de consumo para ver si lo clasifica como anómalo o no."
   ]
  },
  {
   "cell_type": "code",
   "execution_count": null,
   "id": "1169e380",
   "metadata": {},
   "outputs": [],
   "source": [
    "# Ejemplo de predicción con nuevos datos\n",
    "nuevo_consumo = pd.DataFrame([[52, 2, 4, 2]], columns=[\"consumo_litros\", \"hora_dia\", \"dia_semana\", \"usuario_id\"])\n",
    "prediccion = clf.predict(nuevo_consumo)\n",
    "print(\"¿Es anómalo?\", \"Sí\" if prediccion[0] == 1 else \"No\")"
   ]
  },
  {
   "cell_type": "markdown",
   "id": "c33a381e",
   "metadata": {},
   "source": [
    "## Visualización de datos\n",
    "\n",
    "A continuación, se muestran ejemplos de cómo graficar los datos para análisis exploratorio "
   ]
  },
  {
   "cell_type": "code",
   "execution_count": null,
   "id": "5a082def",
   "metadata": {},
   "outputs": [],
   "source": [
    "# Importar librerías de visualización\n",
    "default_backend = None\n",
    "import matplotlib.pyplot as plt\n",
    "import seaborn as sns"
   ]
  },
  {
   "cell_type": "code",
   "execution_count": null,
   "id": "ffb5bfb4",
   "metadata": {},
   "outputs": [],
   "source": [
    "# Gráfica 1: Histograma de consumo de litros\n",
    "plt.figure(figsize=(6,4))\n",
    "sns.histplot(df['consumo_litros'], bins=8, kde=True)\n",
    "plt.title('Distribución de consumo de litros')\n",
    "plt.xlabel('Consumo (litros)')\n",
    "plt.ylabel('Frecuencia')\n",
    "plt.show()"
   ]
  },
  {
   "cell_type": "code",
   "execution_count": null,
   "id": "c9ef8d4c",
   "metadata": {},
   "outputs": [],
   "source": [
    "# Gráfica 2: Boxplot de consumo por clase anómala\n",
    "plt.figure(figsize=(6,4))\n",
    "sns.boxplot(x='es_anomalo', y='consumo_litros', data=df)\n",
    "plt.title('Consumo de litros según si es anómalo o no')\n",
    "plt.xlabel('¿Es anómalo? (0=No, 1=Sí)')\n",
    "plt.ylabel('Consumo (litros)')\n",
    "plt.show()"
   ]
  },
  {
   "cell_type": "code",
   "execution_count": null,
   "id": "848ccd90",
   "metadata": {},
   "outputs": [],
   "source": [
    "# Gráfica 3: Conteo de registros anómalos vs normales\n",
    "plt.figure(figsize=(5,3))\n",
    "sns.countplot(x='es_anomalo', data=df)\n",
    "plt.title('Cantidad de registros anómalos vs normales')\n",
    "plt.xlabel('¿Es anómalo? (0=No, 1=Sí)')\n",
    "plt.ylabel('Cantidad')\n",
    "plt.show()"
   ]
  }
 ],
 "metadata": {
  "language_info": {
   "name": "python"
  }
 },
 "nbformat": 4,
 "nbformat_minor": 5
}
