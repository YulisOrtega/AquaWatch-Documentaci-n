{
 "cells": [
  {
   "cell_type": "markdown",
   "id": "67bd117d",
   "metadata": {},
   "source": [
    "# Agrupamiento de Consumos de Agua con Aprendizaje No Supervisado\n",
    "\n",
    "Este notebook muestra cómo aplicar un modelo no supervisado (KMeans) para agrupar registros de consumo de agua y analizar patrones sin etiquetas previas."
   ]
  },
  {
   "cell_type": "code",
   "execution_count": null,
   "id": "3c0a1230",
   "metadata": {},
   "outputs": [],
   "source": [
    "# Importar librerías necesarias\n",
    "import pandas as pd\n",
    "from sklearn.cluster import KMeans\n",
    "import matplotlib.pyplot as plt\n",
    "import seaborn as sns"
   ]
  },
  {
   "cell_type": "markdown",
   "id": "2a8d35c3",
   "metadata": {},
   "source": [
    "## Simulación de datos de consumo de agua\n",
    "\n",
    "Simularemos un conjunto de datos donde cada fila representa una lectura de consumo de agua. No hay etiquetas, solo variables numéricas para agrupar."
   ]
  },
  {
   "cell_type": "code",
   "execution_count": null,
   "id": "85b25586",
   "metadata": {},
   "outputs": [],
   "source": [
    "# Simular datos de consumo de agua\n",
    "# Cada fila: [consumo_litros, hora_dia, dia_semana, usuario_id]\n",
    "data = [\n",
    "    [10, 8, 1, 1],\n",
    "    [12, 9, 1, 1],\n",
    "    [50, 3, 2, 2],\n",
    "    [11, 10, 1, 1],\n",
    "    [9, 8, 2, 2],\n",
    "    [55, 2, 3, 2],\n",
    "    [10, 8, 3, 1],\n",
    "    [13, 9, 4, 1],\n",
    "    [60, 1, 5, 2],\n",
    "    [12, 10, 6, 1],\n",
    "]\n",
    "df = pd.DataFrame(data, columns=[\"consumo_litros\", \"hora_dia\", \"dia_semana\", \"usuario_id\"])\n",
    "df"
   ]
  },
  {
   "cell_type": "markdown",
   "id": "f5f8e285",
   "metadata": {},
   "source": [
    "## Selección de variables para clustering\n",
    "\n",
    "Seleccionamos las variables numéricas que usaremos para agrupar los datos."
   ]
  },
  {
   "cell_type": "code",
   "execution_count": null,
   "id": "7cd88126",
   "metadata": {},
   "outputs": [],
   "source": [
    "# Seleccionar variables para clustering\n",
    "X = df[[\"consumo_litros\", \"hora_dia\"]]\n",
    "X.head()"
   ]
  },
  {
   "cell_type": "markdown",
   "id": "62627e8f",
   "metadata": {},
   "source": [
    "## Aplicar KMeans para agrupar los datos\n",
    "\n",
    "Usamos el algoritmo KMeans para encontrar grupos (clusters) en los datos de consumo."
   ]
  },
  {
   "cell_type": "code",
   "execution_count": null,
   "id": "8e754c44",
   "metadata": {},
   "outputs": [],
   "source": [
    "# Aplicar KMeans para encontrar 2 clusters\n",
    "kmeans = KMeans(n_clusters=2, random_state=42)\n",
    "df['cluster'] = kmeans.fit_predict(X)\n",
    "print(\"Centroides:\")\n",
    "print(kmeans.cluster_centers_)\n",
    "print(\"Etiquetas de cluster:\")\n",
    "print(df['cluster'].values)\n",
    "df"
   ]
  },
  {
   "cell_type": "markdown",
   "id": "e71ff3ce",
   "metadata": {},
   "source": [
    "## Visualización de los clusters generados\n",
    "\n",
    "Graficamos los resultados del clustering para observar cómo se agruparon los registros de consumo."
   ]
  },
  {
   "cell_type": "code",
   "execution_count": null,
   "id": "b000930b",
   "metadata": {},
   "outputs": [],
   "source": [
    "# Visualización de los clusters\n",
    "plt.figure(figsize=(6,4))\n",
    "sns.scatterplot(x='consumo_litros', y='hora_dia', hue='cluster', data=df, palette='Set1')\n",
    "plt.scatter(kmeans.cluster_centers_[:,0], kmeans.cluster_centers_[:,1], s=200, c='yellow', label='Centroides', marker='X')\n",
    "plt.title('Clusters de consumo de agua (KMeans)')\n",
    "plt.xlabel('Consumo (litros)')\n",
    "plt.ylabel('Hora del día')\n",
    "plt.legend()\n",
    "plt.show()"
   ]
  },
  {
   "cell_type": "markdown",
   "id": "de8534eb",
   "metadata": {},
   "source": [
    "## Visualización exploratoria y de clusters\n",
    "\n",
    "A continuación se muestran tres gráficas útiles para analizar los resultados del modelo no supervisado."
   ]
  },
  {
   "cell_type": "code",
   "execution_count": null,
   "id": "e65bd5a8",
   "metadata": {},
   "outputs": [],
   "source": [
    "# Gráfica 1: Histograma de consumo de litros por cluster\n",
    "import matplotlib.pyplot as plt\n",
    "import seaborn as sns\n",
    "plt.figure(figsize=(6,4))\n",
    "sns.histplot(data=df, x='consumo_litros', hue='cluster', bins=8, kde=True, palette='Set1')\n",
    "plt.title('Distribución de consumo de litros por cluster')\n",
    "plt.xlabel('Consumo (litros)')\n",
    "plt.ylabel('Frecuencia')\n",
    "plt.show()"
   ]
  },
  {
   "cell_type": "code",
   "execution_count": null,
   "id": "e1f0cf4e",
   "metadata": {},
   "outputs": [],
   "source": [
    "# Gráfica 2: Boxplot de consumo por cluster\n",
    "plt.figure(figsize=(6,4))\n",
    "sns.boxplot(x='cluster', y='consumo_litros', data=df, palette='Set1')\n",
    "plt.title('Consumo de litros por cluster')\n",
    "plt.xlabel('Cluster')\n",
    "plt.ylabel('Consumo (litros)')\n",
    "plt.show()"
   ]
  },
  {
   "cell_type": "code",
   "execution_count": null,
   "id": "c4ae9d31",
   "metadata": {},
   "outputs": [],
   "source": [
    "# Gráfica 3: Conteo de registros por cluster\n",
    "plt.figure(figsize=(5,3))\n",
    "sns.countplot(x='cluster', data=df, palette='Set1')\n",
    "plt.title('Cantidad de registros por cluster')\n",
    "plt.xlabel('Cluster')\n",
    "plt.ylabel('Cantidad')\n",
    "plt.show()"
   ]
  }
 ],
 "metadata": {
  "language_info": {
   "name": "python"
  }
 },
 "nbformat": 4,
 "nbformat_minor": 5
}
